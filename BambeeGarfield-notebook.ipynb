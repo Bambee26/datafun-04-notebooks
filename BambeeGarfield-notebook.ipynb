{
 "cells": [
  {
   "attachments": {},
   "cell_type": "markdown",
   "metadata": {},
   "source": [
    "# Bambee Garfield Project 4\n",
    "\n",
    "Name: [Bambee Garfield](https://github.com/Bambee26)\n",
    "\n",
    "My GitHub [Repos](https://github.com/Bambee26?tab=repositories)"
   ]
  },
  {
   "attachments": {},
   "cell_type": "markdown",
   "metadata": {},
   "source": [
    "## Task 1 - Series"
   ]
  },
  {
   "cell_type": "code",
   "execution_count": 7,
   "metadata": {},
   "outputs": [
    {
     "data": {
      "text/plain": [
       "count      5.000000\n",
       "mean      95.000000\n",
       "std       11.335784\n",
       "min       75.000000\n",
       "25%       98.000000\n",
       "50%       99.000000\n",
       "75%      100.000000\n",
       "max      103.000000\n",
       "dtype: float64"
      ]
     },
     "execution_count": 7,
     "metadata": {},
     "output_type": "execute_result"
    }
   ],
   "source": [
    "## Task 1 - Series\n",
    "\n",
    "import pandas as pd\n",
    "\n",
    "grades = pd.Series([99, 100, 103, 98, 75])\n",
    "\n",
    "grades.count()\n",
    "\n",
    "grades.mean()\n",
    "\n",
    "grades.min()\n",
    "\n",
    "grades.max()\n",
    "\n",
    "grades.std()\n",
    "\n",
    "grades.describe()\n"
   ]
  },
  {
   "attachments": {},
   "cell_type": "markdown",
   "metadata": {},
   "source": [
    "## Task 2 - Series from Dictionary"
   ]
  },
  {
   "cell_type": "code",
   "execution_count": 14,
   "metadata": {},
   "outputs": [
    {
     "name": "stdout",
     "output_type": "stream",
     "text": [
      "0    100\n",
      "1     87\n",
      "2     90\n",
      "Name: Eva, dtype: int64\n",
      "0    87\n",
      "1    96\n",
      "2    70\n",
      "Name: Wally, dtype: int64\n",
      "[[ 87 100  94 100  83]\n",
      " [ 96  87  77  81  65]\n",
      " [ 70  90  90  82  85]]\n"
     ]
    }
   ],
   "source": [
    "import pandas as pd\n",
    "grades_dict = {'Wally': [87, 96, 70], 'Eva': [100, 87, 90],\n",
    "                                  'Sam': [94, 77, 90], 'Katie': [100, 81, 82],\n",
    "                                  'Bob': [83, 65, 85]}\n",
    "grades = pd.DataFrame(grades_dict)\n",
    "\n",
    "print(grades['Eva'])\n",
    "\n",
    "print(grades.Wally)\n",
    "\n",
    "print(grades.values)\n"
   ]
  },
  {
   "cell_type": "code",
   "execution_count": 17,
   "metadata": {},
   "outputs": [
    {
     "name": "stdout",
     "output_type": "stream",
     "text": [
      "0    67\n",
      "1    71\n",
      "2    80\n",
      "3    67\n",
      "4    68\n",
      "5    76\n",
      "dtype: int32\n",
      "67\n",
      "80\n",
      "71.5\n",
      "count     6.000000\n",
      "mean     71.500000\n",
      "std       5.394442\n",
      "min      67.000000\n",
      "25%      67.250000\n",
      "50%      69.500000\n",
      "75%      74.750000\n",
      "max      80.000000\n",
      "dtype: float64\n"
     ]
    }
   ],
   "source": [
    "## Page 266 Self Check\n",
    "\n",
    "import numpy as np\n",
    "\n",
    "import pandas as pd\n",
    "\n",
    "temps = np.random.randint(60, 101, 6)\n",
    "\n",
    "temperatures = pd.Series(temps)\n",
    "\n",
    "print(temperatures)\n",
    "\n",
    "print(temperatures.min())\n",
    "\n",
    "print(temperatures.max())\n",
    "\n",
    "print(temperatures.mean())\n",
    "\n",
    "print(temperatures.describe())\n",
    "\n"
   ]
  }
 ],
 "metadata": {
  "kernelspec": {
   "display_name": ".venv",
   "language": "python",
   "name": "python3"
  },
  "language_info": {
   "codemirror_mode": {
    "name": "ipython",
    "version": 3
   },
   "file_extension": ".py",
   "mimetype": "text/x-python",
   "name": "python",
   "nbconvert_exporter": "python",
   "pygments_lexer": "ipython3",
   "version": "3.11.3"
  },
  "orig_nbformat": 4
 },
 "nbformat": 4,
 "nbformat_minor": 2
}
