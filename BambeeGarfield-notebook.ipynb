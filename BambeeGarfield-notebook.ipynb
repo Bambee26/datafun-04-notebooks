{
 "cells": [
  {
   "attachments": {},
   "cell_type": "markdown",
   "metadata": {},
   "source": [
    "# Bambee Garfield Project 4\n",
    "\n",
    "Name: [Bambee Garfield](https://github.com/Bambee26)\n",
    "\n",
    "My GitHub [Repos](https://github.com/Bambee26?tab=repositories)"
   ]
  },
  {
   "cell_type": "code",
   "execution_count": 6,
   "metadata": {},
   "outputs": [
    {
     "data": {
      "text/plain": [
       "count      5.000000\n",
       "mean      95.000000\n",
       "std       11.335784\n",
       "min       75.000000\n",
       "25%       98.000000\n",
       "50%       99.000000\n",
       "75%      100.000000\n",
       "max      103.000000\n",
       "dtype: float64"
      ]
     },
     "execution_count": 6,
     "metadata": {},
     "output_type": "execute_result"
    }
   ],
   "source": [
    "## Task 1 - Series\n",
    "\n",
    "import pandas as pd\n",
    "\n",
    "grades = pd.Series([99, 100, 103, 98, 75])\n",
    "\n",
    "grades.count()\n",
    "\n",
    "grades.mean()\n",
    "\n",
    "grades.min()\n",
    "\n",
    "grades.max()\n",
    "\n",
    "grades.std()\n",
    "\n",
    "grades.describe()\n"
   ]
  }
 ],
 "metadata": {
  "kernelspec": {
   "display_name": ".venv",
   "language": "python",
   "name": "python3"
  },
  "language_info": {
   "codemirror_mode": {
    "name": "ipython",
    "version": 3
   },
   "file_extension": ".py",
   "mimetype": "text/x-python",
   "name": "python",
   "nbconvert_exporter": "python",
   "pygments_lexer": "ipython3",
   "version": "3.11.3"
  },
  "orig_nbformat": 4
 },
 "nbformat": 4,
 "nbformat_minor": 2
}
